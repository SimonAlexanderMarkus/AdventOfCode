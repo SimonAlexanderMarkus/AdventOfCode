{
 "cells": [
  {
   "cell_type": "code",
   "execution_count": 2,
   "metadata": {},
   "outputs": [
    {
     "data": {
      "text/plain": [
       "['SASASMSSSMSMSMSMSSMSAMXMAMAMXSXXXMAMMXSAMXMXMXSMMMXXXSXXAXSMMMAMXAXSMSSXXMSASASMXSSMSMSXMMMAMMMXXSAMXSSMXAXSASMMMXMASAXSXMXMAMXAMXXMAXXAMAMX\\n',\n",
       " 'AASAXAAAAXXASASMXSAXAMXXSMSSMSAXSMSMMASAMAAXMAMAAAMMMMMSMXSAMXSSMSMXMAXMASXAXAMXAAXMAMXAMASAMAAMXMASAMAAMSMSASASMMMMAMSXSMASMMSMSMMASMMMSAMA\\n',\n",
       " 'MXMXMMMSMMMMMAMXAMXMSSSMAXAAXMAMAAAXMASASMSXMASMMXSAAAAAMAXAMAXAAXAAMXMAMXMSMSMMXMASMSMXSASAXXXSASXMASXMMXAMMMAMMAXMXMMAXXAMAAAAAAMAMAAXSAMA\\n',\n",
       " 'XSMSAXMAMAAXMAMMSSXSAAXSMMXXMASMMSMSMXSMMAMMSMAAXASMSMSSSMSSMMSMMMSSSSSSSMAMAAXMXXXAAAAAMMSAMSMSASMSXMASAXSAMMSMSMMMAAMAMMSSMSMSSSMAMMSMSAMX\\n',\n",
       " 'XMAMAMSASMSSSMSAXAMXMSMAXAMMMXXXXMMXMAMAMXMXAXMMMMSAMAAXAXAXMXMAMXMXAAMAAMAMXMMXMMMMMMMMSAMAMMAMAMAMASXMXMXXSAXMAAASXSMXSAAAXXAXAXXSSMMASAMM\\n',\n",
       " 'XMAMAMXAMXXXMAMXMMAXAAXMXSAASAMXSMASMASAMXSXMSXSXAMAMMMSSMMSXXMASAMMMMMXXMASMMMSMMASAMASMASXMMAMASXMAMXMAMSXMXSSSSMAMAXAMMSMMSMMAMXMAAMXMMMA\\n',\n",
       " 'MSASXSMSMXSAMXMMMMSMXMMMAMXMMASXXAXXMAMASASAAXAMMSSMMMXAXMAMMMXASMSASXMSSSXSAAAMAAASASXSAMSAASXXXSASMMMXAXAMMXMXMAMXSMMXXAXMAMXMXMASXMMSMASX\\n',\n",
       " 'MSXMASXAAXSAMXMAXXXAMMMMASMSSMMXMXMSMSSMMASMMMAMAMAASMMMMMASMSMMSXAXSAMAAAASXMMSSMXSAMMSMMSMMMSMSMXMAASXXMAXMAXMMXMMAXXXMASMXMAMASMSASAXMAMX\\n']"
      ]
     },
     "execution_count": 2,
     "metadata": {},
     "output_type": "execute_result"
    }
   ],
   "source": [
    "with open(\"2024_04_input.txt\", \"r\") as file:\n",
    "    lines = file.readlines()\n",
    "lines[0:8]"
   ]
  },
  {
   "cell_type": "code",
   "execution_count": 4,
   "metadata": {},
   "outputs": [
    {
     "data": {
      "text/plain": [
       "['SASASMSSSMSMSMSMSSMSAMXMAMAMXSXXXMAMMXSAMXMXMXSMMMXXXSXXAXSMMMAMXAXSMSSXXMSASASMXSSMSMSXMMMAMMMXXSAMXSSMXAXSASMMMXMASAXSXMXMAMXAMXXMAXXAMAMX',\n",
       " 'AASAXAAAAXXASASMXSAXAMXXSMSSMSAXSMSMMASAMAAXMAMAAAMMMMMSMXSAMXSSMSMXMAXMASXAXAMXAAXMAMXAMASAMAAMXMASAMAAMSMSASASMMMMAMSXSMASMMSMSMMASMMMSAMA',\n",
       " 'MXMXMMMSMMMMMAMXAMXMSSSMAXAAXMAMAAAXMASASMSXMASMMXSAAAAAMAXAMAXAAXAAMXMAMXMSMSMMXMASMSMXSASAXXXSASXMASXMMXAMMMAMMAXMXMMAXXAMAAAAAAMAMAAXSAMA',\n",
       " 'XSMSAXMAMAAXMAMMSSXSAAXSMMXXMASMMSMSMXSMMAMMSMAAXASMSMSSSMSSMMSMMMSSSSSSSMAMAAXMXXXAAAAAMMSAMSMSASMSXMASAXSAMMSMSMMMAAMAMMSSMSMSSSMAMMSMSAMX',\n",
       " 'XMAMAMSASMSSSMSAXAMXMSMAXAMMMXXXXMMXMAMAMXMXAXMMMMSAMAAXAXAXMXMAMXMXAAMAAMAMXMMXMMMMMMMMSAMAMMAMAMAMASXMXMXXSAXMAAASXSMXSAAAXXAXAXXSSMMASAMM',\n",
       " 'XMAMAMXAMXXXMAMXMMAXAAXMXSAASAMXSMASMASAMXSXMSXSXAMAMMMSSMMSXXMASAMMMMMXXMASMMMSMMASAMASMASXMMAMASXMAMXMAMSXMXSSSSMAMAXAMMSMMSMMAMXMAAMXMMMA',\n",
       " 'MSASXSMSMXSAMXMMMMSMXMMMAMXMMASXXAXXMAMASASAAXAMMSSMMMXAXMAMMMXASMSASXMSSSXSAAAMAAASASXSAMSAASXXXSASMMMXAXAMMXMXMAMXSMMXXAXMAMXMXMASXMMSMASX',\n",
       " 'MSXMASXAAXSAMXMAXXXAMMMMASMSSMMXMXMSMSSMMASMMMAMAMAASMMMMMASMSMMSXAXSAMAAAASXMMSSMXSAMMSMMSMMMSMSMXMAASXXMAXMAXMMXMMAXXXMASMXMAMASMSASAXMAMX']"
      ]
     },
     "execution_count": 4,
     "metadata": {},
     "output_type": "execute_result"
    }
   ],
   "source": [
    "lines = [line.replace(\"\\n\", \"\") for line in lines]\n",
    "lines[0:8]"
   ]
  },
  {
   "cell_type": "code",
   "execution_count": 5,
   "metadata": {},
   "outputs": [],
   "source": [
    "test_lines = [\n",
    "    \"MMMSXXMASM\",\n",
    "    \"MSAMXMSMSA\",\n",
    "    \"AMXSXMAAMM\",\n",
    "    \"MSAMASMSMX\",\n",
    "    \"XMASAMXAMM\",\n",
    "    \"XXAMMXXAMA\",\n",
    "    \"SMSMSASXSS\",\n",
    "    \"SAXAMASAAA\",\n",
    "    \"MAMMMXMMMM\",\n",
    "    \"MXMXAXMASX\"\n",
    "]"
   ]
  },
  {
   "cell_type": "code",
   "execution_count": 25,
   "metadata": {},
   "outputs": [],
   "source": [
    "# data = test_lines\n",
    "data = lines"
   ]
  },
  {
   "cell_type": "code",
   "execution_count": 26,
   "metadata": {},
   "outputs": [],
   "source": [
    "def get_letters(row, col, row_dir, col_dir):\n",
    "    letters = \"\"\n",
    "    if (0 <= (row + 3*row_dir) < max_rows) and (0 <= (col + 3*col_dir) < max_cols):\n",
    "        for n in range(4):\n",
    "            letters += data[row + n*row_dir][col + n*col_dir]\n",
    "        \n",
    "    return letters"
   ]
  },
  {
   "cell_type": "code",
   "execution_count": 18,
   "metadata": {},
   "outputs": [
    {
     "data": {
      "text/plain": [
       "'XAMX'"
      ]
     },
     "execution_count": 18,
     "metadata": {},
     "output_type": "execute_result"
    }
   ],
   "source": [
    "get_letters(5, 5, -1, -1)"
   ]
  },
  {
   "cell_type": "code",
   "execution_count": 32,
   "metadata": {},
   "outputs": [
    {
     "data": {
      "text/plain": [
       "18"
      ]
     },
     "execution_count": 32,
     "metadata": {},
     "output_type": "execute_result"
    }
   ],
   "source": [
    "max_rows = len(data)\n",
    "max_cols = len(data[0])\n",
    "counter = 0\n",
    "for row in range(max_rows):\n",
    "    for col in range(max_cols):\n",
    "        letter = data[row][col]\n",
    "        if letter == \"X\":\n",
    "            for row_dir in [0, 1, -1]:\n",
    "                for col_dir in [0, 1, -1]:\n",
    "                    letters = get_letters(row, col, row_dir, col_dir)\n",
    "                    if letters == \"XMAS\":\n",
    "                        counter += 1\n",
    "counter"
   ]
  },
  {
   "cell_type": "markdown",
   "metadata": {},
   "source": [
    "Part Two"
   ]
  },
  {
   "cell_type": "code",
   "execution_count": 28,
   "metadata": {},
   "outputs": [],
   "source": [
    "def get_X_letters(row, col):\n",
    "    letters1 = \"\"\n",
    "    letters2 = \"\"\n",
    "    if (1 <= row < max_rows-1) and (1 <= col < max_cols-1):\n",
    "        letters1 = data[row-1][col-1] + data[row][col] + data[row+1][col+1]\n",
    "        letters2 = data[row-1][col+1] + data[row][col] + data[row+1][col-1]\n",
    "    return letters1, letters2"
   ]
  },
  {
   "cell_type": "code",
   "execution_count": 38,
   "metadata": {},
   "outputs": [],
   "source": [
    "#data = test_lines\n",
    "data = lines"
   ]
  },
  {
   "cell_type": "code",
   "execution_count": 31,
   "metadata": {},
   "outputs": [
    {
     "data": {
      "text/plain": [
       "('MSX', 'MSA')"
      ]
     },
     "execution_count": 31,
     "metadata": {},
     "output_type": "execute_result"
    }
   ],
   "source": [
    "get_X_letters(1, 1)"
   ]
  },
  {
   "cell_type": "code",
   "execution_count": 39,
   "metadata": {},
   "outputs": [
    {
     "data": {
      "text/plain": [
       "1902"
      ]
     },
     "execution_count": 39,
     "metadata": {},
     "output_type": "execute_result"
    }
   ],
   "source": [
    "max_rows = len(data)\n",
    "max_cols = len(data[0])\n",
    "counter = 0\n",
    "for row in range(1, max_rows-1):\n",
    "    for col in range(1, max_cols-1):\n",
    "        letter = data[row][col]\n",
    "        x1, x2 = get_X_letters(row, col)\n",
    "        if letter == \"A\":\n",
    "            #print(row, col, x1, x2)\n",
    "            if ((x1 == \"MAS\") or (x1 == \"SAM\")) and ((x2 == \"MAS\") or x2 == \"SAM\"):\n",
    "                counter += 1\n",
    "counter"
   ]
  },
  {
   "cell_type": "code",
   "execution_count": null,
   "metadata": {},
   "outputs": [],
   "source": []
  }
 ],
 "metadata": {
  "kernelspec": {
   "display_name": "sb",
   "language": "python",
   "name": "python3"
  },
  "language_info": {
   "codemirror_mode": {
    "name": "ipython",
    "version": 3
   },
   "file_extension": ".py",
   "mimetype": "text/x-python",
   "name": "python",
   "nbconvert_exporter": "python",
   "pygments_lexer": "ipython3",
   "version": "3.13.0"
  }
 },
 "nbformat": 4,
 "nbformat_minor": 2
}
