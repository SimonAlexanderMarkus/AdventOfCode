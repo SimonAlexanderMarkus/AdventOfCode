{
 "cells": [
  {
   "cell_type": "markdown",
   "metadata": {},
   "source": [
    "https://adventofcode.com/2024/day/2\n",
    "\n",
    "https://adventofcode.com/2024/day/2/input"
   ]
  },
  {
   "cell_type": "code",
   "execution_count": 78,
   "metadata": {},
   "outputs": [
    {
     "data": {
      "text/plain": [
       "[[6, 8, 9, 11, 10],\n",
       " [13, 16, 19, 22, 24, 25, 25],\n",
       " [43, 46, 47, 48, 50, 52, 56],\n",
       " [55, 57, 60, 61, 64, 65, 68, 74],\n",
       " [81, 84, 86, 83, 84, 87],\n",
       " [45, 47, 50, 49, 46],\n",
       " [15, 16, 18, 16, 16],\n",
       " [79, 80, 81, 79, 80, 83, 85, 89]]"
      ]
     },
     "execution_count": 78,
     "metadata": {},
     "output_type": "execute_result"
    }
   ],
   "source": [
    "with open(\"2024_02_input.txt\", \"r\") as f:\n",
    "    lines = f.readlines()\n",
    "lines = [line.strip().split(\" \") for line in lines]\n",
    "lines = [[int(i) for i in line] for line in lines]\n",
    "lines[0:8]"
   ]
  },
  {
   "cell_type": "code",
   "execution_count": 67,
   "metadata": {},
   "outputs": [],
   "source": [
    "def check_line(line):\n",
    "    diffs = []\n",
    "    safe = True\n",
    "    for i in range(len(line) - 1):\n",
    "        diffs.append(line[i+1] - line[i])\n",
    "    if (max(diffs) > 3) or (min(diffs) < -3):\n",
    "        safe = False\n",
    "    if (max(diffs) > 0) and (min(diffs) < 0):\n",
    "        safe = False\n",
    "    if 0 in diffs:\n",
    "        safe = False\n",
    "\n",
    "    return safe\n"
   ]
  },
  {
   "cell_type": "markdown",
   "metadata": {},
   "source": [
    "Part One"
   ]
  },
  {
   "cell_type": "code",
   "execution_count": 71,
   "metadata": {},
   "outputs": [],
   "source": [
    "safes = []\n",
    "for line in lines:\n",
    "    safe = check_line(line)\n",
    "    safes.append(safe)"
   ]
  },
  {
   "cell_type": "code",
   "execution_count": 72,
   "metadata": {},
   "outputs": [
    {
     "data": {
      "text/plain": [
       "2"
      ]
     },
     "execution_count": 72,
     "metadata": {},
     "output_type": "execute_result"
    }
   ],
   "source": [
    "sum(safes)  # 252 is correct!"
   ]
  },
  {
   "cell_type": "markdown",
   "metadata": {},
   "source": [
    "Part Two"
   ]
  },
  {
   "cell_type": "code",
   "execution_count": 79,
   "metadata": {},
   "outputs": [
    {
     "data": {
      "text/plain": [
       "324"
      ]
     },
     "execution_count": 79,
     "metadata": {},
     "output_type": "execute_result"
    }
   ],
   "source": [
    "safes = []\n",
    "all_diffs = []\n",
    "for line in lines:\n",
    "    safe = check_line(line)\n",
    "    if not safe:\n",
    "        for i in range(len(line)):\n",
    "            new_line = line.copy()\n",
    "            new_line.pop(i)\n",
    "            if check_line(new_line):\n",
    "                safe = True\n",
    "                break\n",
    "\n",
    "    safes.append(safe)\n",
    "\n",
    "sum(safes)  # 324 is correct!"
   ]
  }
 ],
 "metadata": {
  "kernelspec": {
   "display_name": "sb",
   "language": "python",
   "name": "python3"
  },
  "language_info": {
   "codemirror_mode": {
    "name": "ipython",
    "version": 3
   },
   "file_extension": ".py",
   "mimetype": "text/x-python",
   "name": "python",
   "nbconvert_exporter": "python",
   "pygments_lexer": "ipython3",
   "version": "3.13.0"
  }
 },
 "nbformat": 4,
 "nbformat_minor": 2
}
